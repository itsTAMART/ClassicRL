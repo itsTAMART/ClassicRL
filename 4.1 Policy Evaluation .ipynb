{
 "cells": [
  {
   "cell_type": "markdown",
   "metadata": {},
   "source": [
    "# Exercise 4.1. \n",
    "Implement PE in Matlab and compute the value function\n",
    "for each of the four deterministic policies and problem parameters given in\n",
    "**Exercise 3.3**. Check that the result obtained through PE is consistent with\n",
    "the theoretical result obtained in previous chapter.\n",
    "\n",
    "![img](imgs/Screenshot_2018-04-20_11-23-41.png)"
   ]
  },
  {
   "cell_type": "code",
   "execution_count": 1,
   "metadata": {},
   "outputs": [],
   "source": [
    "import numpy as np\n",
    "from numpy.linalg import inv\n",
    "import itertools as IT\n",
    "np.set_printoptions(precision=2, suppress=True)\n",
    "#initial parameters\n",
    "gamma = .9\n",
    "R = np.matrix([[-1],[.6],[.5],[-.9]])\n",
    "P = np.matrix([[0.8,0.2],[0.2,0.8],[0.3,0.7],[0.9,0.1]])\n",
    "pi1 = [[1,0,0,0],[0,0,1,0]]\n",
    "pi2 = [[0,1,0,0],[0,0,1,0]]\n",
    "pi3 = [[1,0,0,0],[0,0,0,1]]\n",
    "pi4 = [[0,1,0,0],[0,0,0,1]]\n",
    "\n",
    "N_states = 2\n",
    "N_actions = 2\n",
    "N_steps = 400"
   ]
  },
  {
   "cell_type": "markdown",
   "metadata": {},
   "source": [
    "Helper Functions"
   ]
  },
  {
   "cell_type": "code",
   "execution_count": 2,
   "metadata": {},
   "outputs": [],
   "source": [
    "# function to evaluate the state value(V) function of a certain policy\n",
    "def eval_v(policy):\n",
    "    P_pi = np.matmul(policy, P)\n",
    "    R_pi = np.matmul(policy, R)\n",
    "\n",
    "    return np.matmul(inv(np.identity(P_pi.shape[0]) - gamma * P_pi), R_pi)\n",
    "\n",
    "\n",
    "# function to evaluate the state-action(Q) value function of a certain policy\n",
    "def eval_q(policy):\n",
    "    # product of the transition matrix with the policy\n",
    "    P_aux = np.matmul(P, policy)\n",
    "\n",
    "    return np.matmul(inv(np.identity(P_aux.shape[0]) - gamma * P_aux), R)\n",
    "\n",
    "#rewards for a state\n",
    "def R_state( state):\n",
    "    return R[N_actions * state: N_actions * state + N_actions]\n",
    "\n",
    "# transition probabilities for a state\n",
    "def P_state( state):\n",
    "    return P[N_actions * state: N_actions * state + N_actions, ]\n",
    "\n",
    "def R_(state,action=None):\n",
    "    if action ==None:\n",
    "        return R_state(state)\n",
    "    else:\n",
    "        return R_state(state)[action]\n",
    "    \n",
    "def P_(state,action=None,state_t1=None):\n",
    "    if action ==None :\n",
    "        if state_t1 ==None :\n",
    "            return P_state(state)\n",
    "        else:\n",
    "            return P_state(state)[:,state_t1]\n",
    "    else:\n",
    "        if state_t1 ==None :\n",
    "            return P_state(state)[action,]\n",
    "        else:\n",
    "            return P_state(state)[action,state_t1]\n",
    "\n",
    "def policy_(policy,state,action):\n",
    "    return policy[state][state*N_actions+action]"
   ]
  },
  {
   "cell_type": "markdown",
   "metadata": {
    "collapsed": true
   },
   "source": [
    "![img](imgs/Screenshot_2018-05-07_13-33-43.png)"
   ]
  },
  {
   "cell_type": "code",
   "execution_count": 3,
   "metadata": {},
   "outputs": [],
   "source": [
    "# We define the algorithm for policy evaluation with the state value function\n",
    "def policy_evaluation_v(policy):\n",
    "    # 1 \n",
    "    v = np.zeros(N_states)\n",
    "    # 2, 8 stop condition is not stated, instead we do 400 iterations\n",
    "    for i in range(N_steps):\n",
    "        # 3\n",
    "        delta = 0\n",
    "        # 4\n",
    "        for state in range(N_states):\n",
    "            # 5 \n",
    "            v_old = v[state]\n",
    "            # 6 \n",
    "            v_aux = 0\n",
    "            for action in range(N_actions):\n",
    "                v_aux += policy_(policy, state, action) * (R_(state, action) + gamma * sum(\n",
    "                    [P_(state, action, state_t1) * v[state_t1] for state_t1 in range(N_states)]))\n",
    "            v[state] = v_aux\n",
    "            # 7\n",
    "            # delta = np.max(delta, np.abs(v_old - v[state]))\n",
    "\n",
    "    # 8,9    \n",
    "    return v"
   ]
  },
  {
   "cell_type": "code",
   "execution_count": 4,
   "metadata": {},
   "outputs": [
    {
     "data": {
      "text/plain": [
       "array([5.34, 5.25])"
      ]
     },
     "execution_count": 4,
     "metadata": {},
     "output_type": "execute_result"
    }
   ],
   "source": [
    "policy_evaluation_v(pi2)"
   ]
  },
  {
   "cell_type": "code",
   "execution_count": 5,
   "metadata": {},
   "outputs": [
    {
     "data": {
      "text/plain": [
       "matrix([[5.34],\n",
       "        [5.25]])"
      ]
     },
     "execution_count": 5,
     "metadata": {},
     "output_type": "execute_result"
    }
   ],
   "source": [
    "eval_v(pi2)"
   ]
  },
  {
   "cell_type": "markdown",
   "metadata": {},
   "source": [
    "![img](imgs/Screenshot_2018-05-07_13-34-23.png)"
   ]
  },
  {
   "cell_type": "code",
   "execution_count": 6,
   "metadata": {},
   "outputs": [],
   "source": [
    "# We define the algorithm for policy evaluation with the state-action \n",
    "# value function\n",
    "# We define the algorithm for policy evaluation with the state value function\n",
    "def policy_evaluation_q(policy):\n",
    "    # 1\n",
    "    q = np.zeros(N_states* N_actions)\n",
    "    # 2, 8 stop condition is not stated, instead we do 400 iterations\n",
    "    for i in range(N_steps):\n",
    "        # 3\n",
    "        delta = 0\n",
    "        # 4 TO-DO\n",
    "        for state, action in IT.product(range(N_states), range(N_actions)):\n",
    "            # 5\n",
    "            q_old = q[state*N_actions + action]\n",
    "            # 6\n",
    "            q_aux = [R_(state, action)]\n",
    "            for state_t1 in range(N_states):\n",
    "                q_aux += gamma * P_(state, action, state_t1) * sum(\n",
    "                    [policy_(policy, state_t1, action_t1) * q[state_t1*N_actions + action_t1] for action_t1 in\n",
    "                     range(N_actions)])\n",
    "            q[state*N_actions + action] = q_aux\n",
    "            # 7\n",
    "            # delta = np.max(delta, np.abs(q_old - q[state,action]))\n",
    "\n",
    "    return q"
   ]
  },
  {
   "cell_type": "code",
   "execution_count": 7,
   "metadata": {},
   "outputs": [
    {
     "data": {
      "text/plain": [
       "array([3.79, 5.34, 5.25, 3.9 ])"
      ]
     },
     "execution_count": 7,
     "metadata": {},
     "output_type": "execute_result"
    }
   ],
   "source": [
    "policy_evaluation_q(pi2)"
   ]
  },
  {
   "cell_type": "code",
   "execution_count": 8,
   "metadata": {},
   "outputs": [
    {
     "data": {
      "text/plain": [
       "matrix([[3.79],\n",
       "        [5.34],\n",
       "        [5.25],\n",
       "        [3.9 ]])"
      ]
     },
     "execution_count": 8,
     "metadata": {},
     "output_type": "execute_result"
    }
   ],
   "source": [
    "eval_q(pi2)"
   ]
  }
 ],
 "metadata": {
  "kernelspec": {
   "display_name": "Python 3",
   "language": "python",
   "name": "python3"
  },
  "language_info": {
   "codemirror_mode": {
    "name": "ipython",
    "version": 3
   },
   "file_extension": ".py",
   "mimetype": "text/x-python",
   "name": "python",
   "nbconvert_exporter": "python",
   "pygments_lexer": "ipython3",
   "version": "3.6.6"
  }
 },
 "nbformat": 4,
 "nbformat_minor": 2
}
