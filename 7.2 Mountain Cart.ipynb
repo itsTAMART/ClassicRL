{
 "cells": [
  {
   "cell_type": "markdown",
   "metadata": {},
   "source": [
    "# Exercise 7.2. \n",
    "\n",
    "![img](imgs/7.2.1.png)\n",
    "![img](imgs/7.2.2.png)\n",
    "![img](imgs/7.2.3.png)\n",
    "![img](imgs/7.2.4.png)\n"
   ]
  },
  {
   "cell_type": "code",
   "execution_count": 0,
   "metadata": {
    "colab": {
     "autoexec": {
      "startup": false,
      "wait_interval": 0
     }
    },
    "colab_type": "code",
    "id": "OijdjnszuAFR"
   },
   "outputs": [],
   "source": [
    "# Run once, to ckeck/install required packages. Use a python 3 notebook\n",
    "!pip install keras\n",
    "!pip install numpy\n",
    "!pip install tensorflow\n",
    "!pip install matplotlib\n",
    "!pip install gym"
   ]
  },
  {
   "cell_type": "code",
   "execution_count": 0,
   "metadata": {
    "colab": {
     "autoexec": {
      "startup": false,
      "wait_interval": 0
     }
    },
    "colab_type": "code",
    "id": "TE3xqTZTuAFV"
   },
   "outputs": [],
   "source": [
    "# Code adapted from https://github.com/rlcode/reinforcement-learning/tree/master/2-cartpole\n",
    "import random\n",
    "import gym\n",
    "import numpy as np\n",
    "from collections import deque\n",
    "from keras.models import Sequential\n",
    "from keras.layers import Dense\n",
    "from keras.optimizers import Adam\n",
    "%matplotlib inline\n",
    "import matplotlib.pyplot as plt"
   ]
  },
  {
   "cell_type": "code",
   "execution_count": 0,
   "metadata": {
    "colab": {
     "autoexec": {
      "startup": false,
      "wait_interval": 0
     }
    },
    "colab_type": "code",
    "id": "Aad2oetduAFa"
   },
   "outputs": [],
   "source": [
    "# Define the agent that is going to be used for training\n",
    "class DoubleDQNAgent:\n",
    "    def __init__(self, state_size, action_size):\n",
    "        # Define state and action space sizes\n",
    "        self.state_size = state_size\n",
    "        self.action_size = action_size\n",
    "        # Hyper-parameters for the Double-DQN architecture\n",
    "        self.discount_factor = 0.99 # Discount factor for Bellman equation\n",
    "        self.learning_rate = 0.001 # Learning rate for ADAM optimizer\n",
    "        self.epsilon = 1.0 # Initial epsilon value (for epsilon greedy policy)\n",
    "        self.epsilon_decay = 0.9999 # Epsilon decay (for epsilon greedy policy)\n",
    "        self.epsilon_min = 0.01 # Minimal epsilon value (for epsilon greedy policy)\n",
    "        self.batch_size = 128 # Batch size for replay\n",
    "        self.train_start = 1000 # Adds a delay, for the memory to have data before starting the training\n",
    "        # Create a replay memory using deque\n",
    "        self.memory = deque(maxlen=10000)\n",
    "        # create main model and target model\n",
    "        self.model = self.build_model()\n",
    "        self.target_model = self.build_model() # The target model is a NN used to increase stability\n",
    "        # Initialize target model\n",
    "        self.update_target_model()\n",
    "\n",
    "    # NN input is the state, output is the estimated Q value for each action\n",
    "    def build_model(self):\n",
    "        # We build a model with 3 layers\n",
    "        model = Sequential()\n",
    "        model.add(Dense(24, input_dim=self.state_size, activation='relu',kernel_initializer='he_uniform'))\n",
    "        model.add(Dense(24, activation='relu',kernel_initializer='he_uniform'))\n",
    "        model.add(Dense(self.action_size, activation='linear',kernel_initializer='he_uniform'))\n",
    "        #model.summary() # Uncomment to see the model summary provided by Keras\n",
    "        # Compile the model: use Mean Squared Error as loss function, ADAM as optimizer\n",
    "        model.compile(loss='mse', optimizer=Adam(lr=self.learning_rate))\n",
    "        return model\n",
    "\n",
    "    # Function to update the target model\n",
    "    def update_target_model(self):\n",
    "        self.target_model.set_weights(self.model.get_weights())\n",
    "\n",
    "    # Epsilon greedy policy \n",
    "    def get_action(self, state):\n",
    "        if np.random.rand() <= self.epsilon:\n",
    "            return random.randrange(self.action_size)\n",
    "        else:\n",
    "            q_value = self.model.predict(state)\n",
    "            return np.argmax(q_value[0])\n",
    "\n",
    "    # Save sample <s,a,r,s'> to the replay memory\n",
    "    def append_sample(self, state, action, reward, next_state, done):\n",
    "        self.memory.append((state, action, reward, next_state, done))\n",
    "        if self.epsilon > self.epsilon_min:\n",
    "            self.epsilon *= self.epsilon_decay\n",
    "\n",
    "    def train_model(self):\n",
    "        if len(self.memory) < self.train_start:\n",
    "            return # Start training only when there are some samples in the memory\n",
    "        # Pick samples randomly from replay memory (with batch_size)\n",
    "        batch_size = min(self.batch_size, len(self.memory))\n",
    "        mini_batch = random.sample(self.memory, batch_size)\n",
    "        # Preprocess the batch by storing the data in different vectors\n",
    "        update_input = np.zeros((batch_size, self.state_size))\n",
    "        update_target = np.zeros((batch_size, self.state_size))\n",
    "        action, reward, done = [], [], []\n",
    "\n",
    "        for i in range(batch_size):\n",
    "            update_input[i] = mini_batch[i][0]\n",
    "            action.append(mini_batch[i][1])\n",
    "            reward.append(mini_batch[i][2])\n",
    "            update_target[i] = mini_batch[i][3]\n",
    "            done.append(mini_batch[i][4])\n",
    "        # Obtain the targets for the NN training phase\n",
    "        target = self.model.predict(update_input)\n",
    "        target_next = self.model.predict(update_target)\n",
    "        target_val = self.target_model.predict(update_target) # Use the target network HERE for further stability\n",
    "\n",
    "        for i in range(self.batch_size):\n",
    "            # Get maximum Q value at s' from target model\n",
    "            if done[i]:\n",
    "                target[i][action[i]] = reward[i]\n",
    "            else:\n",
    "                a = np.argmax(target_next[i])\n",
    "                target[i][action[i]] = reward[i] + self.discount_factor * (target_val[i][a])\n",
    "        # Fit the model!\n",
    "        self.model.fit(update_input, target, batch_size=self.batch_size, epochs=1, verbose=0)"
   ]
  },
  {
   "cell_type": "code",
   "execution_count": 0,
   "metadata": {
    "colab": {
     "autoexec": {
      "startup": false,
      "wait_interval": 0
     }
    },
    "colab_type": "code",
    "id": "QQVyuFXIuAFe"
   },
   "outputs": [],
   "source": [
    "# Load Mountain Car from gym\n",
    "env = gym.make('MountainCar-v0')\n",
    "# IMPORTANT NOTE: The MountainCar environment allows up to 200 time steps. That is the maximum time of play \n",
    "# Get size of state and action\n",
    "state_size = env.observation_space.shape[0]\n",
    "action_size = env.action_space.n\n",
    "# Create the agent\n",
    "agent = DoubleDQNAgent(state_size, action_size)\n",
    "EPISODES = 500 # Max number of episodes: it usually takes 200-400 to train successfully (10~20 min approx)\n",
    "# NOTE: Don't worry if there are a LOT of episodes with a -200 score at the beginning\n",
    "scores, episodes = [], [] # To store values for plotting\n",
    "break_flag=False # To stop training when the agent has successfully learned\n",
    "for e in range(EPISODES):\n",
    "    if break_flag:\n",
    "        break\n",
    "    done = False\n",
    "    score = 0\n",
    "    state = env.reset() # Set the initial state\n",
    "    state = np.reshape(state, [1, state_size])\n",
    "\n",
    "    while not done: # Iterate while the game has not finished\n",
    "        # Get action for the current state and go one step in environment\n",
    "        action = agent.get_action(state) # Using epsilon-greedy policy\n",
    "        next_state, reward, done, info = env.step(action)\n",
    "        # The reward is -1 in each time step: if the game does not finish, the total reward is -200\n",
    "        next_state = np.reshape(next_state, [1, state_size])\n",
    "        \n",
    "        # Save the sample <s, a, r, s'> to the replay memory\n",
    "        agent.append_sample(state, action, reward, next_state, done)\n",
    "        # Train\n",
    "        agent.train_model()\n",
    "        score += reward\n",
    "        state = next_state\n",
    "        if done:\n",
    "            # Update target model after each episode\n",
    "            agent.update_target_model()\n",
    "            # Store values for plotting\n",
    "            scores.append(score)\n",
    "            episodes.append(e)\n",
    "            # Output the results of the episode (only once each 5 episodes)\n",
    "            if e % 5 ==0:\n",
    "                print(\"episode:\", e, \"  score:\", score, \"  memory length:\",\n",
    "                      len(agent.memory), \"  epsilon:\", agent.epsilon)\n",
    "\n",
    "            # Stop if mean scores of last 10 episodes is higher than -150 \n",
    "            # NOTE: The problem is considered solved if the mean is higher than -110, we use -150 for speed:\n",
    "            #       this means that the NN will not be completely trained\n",
    "            if np.mean(scores[-min(10, len(scores)):]) > -150:\n",
    "                break_flag=True\n",
    "# Output whether the agent learnt or not\n",
    "if break_flag:\n",
    "    print(\"Training finished successfully\")\n",
    "else:\n",
    "    print(\"Training finished unsuccessfully\")\n",
    "# Plot the scores vs the episodes\n",
    "plt.plot(episodes, scores)\n",
    "plt.show()"
   ]
  },
  {
   "cell_type": "code",
   "execution_count": 0,
   "metadata": {
    "colab": {
     "autoexec": {
      "startup": false,
      "wait_interval": 0
     }
    },
    "colab_type": "code",
    "id": "65cZc2uEuAFi"
   },
   "outputs": [],
   "source": [
    "# Run the game once with the trained network and store the values of the position and angle of the cartpole\n",
    "print(\"Obtaining data from trained network\")\n",
    "pos_vector=[]\n",
    "state = env.reset()\n",
    "state = np.reshape(state, [1, state_size])\n",
    "done=False\n",
    "while not done:\n",
    "    pos_vector.append(state[0,0])\n",
    "    action = agent.get_action(state)\n",
    "    next_state, reward, done, _ = env.step(action)\n",
    "    next_state = np.reshape(next_state, [1, state_size])\n",
    "    state = next_state\n",
    "    if done:\n",
    "        break\n",
    "T=len(pos_vector)\n",
    "print(\"Data obtained\")\n",
    "# Animate the data: to observe what our network has learned\n",
    "%matplotlib inline\n",
    "import matplotlib.pyplot as plt\n",
    "from matplotlib import animation, patches\n",
    "from IPython.display import HTML\n",
    "print(\"Creating animation\")\n",
    "fig = plt.figure()\n",
    "ax = plt.axes(xlim=(-1.2, 0.8), ylim=(0,1.5), aspect=1)\n",
    "ax.set_xticks([])\n",
    "ax.set_yticks([])\n",
    "\n",
    "mag1 = plt.Circle((0,0), radius=0.05, fc='black', alpha=0) # Shape of MountainCar will be a circle\n",
    "line1, = ax.plot([], [], 'b', zorder=1,linewidth=2.0) #Mountain line\n",
    "line2, = ax.plot([], [], 'r', zorder=1,linewidth=2.0) # Target line\n",
    "\n",
    "def height(xs):\n",
    "    return np.sin(3 * xs)*.45+.55 # Mathematical description of the height\n",
    "\n",
    "x_base=np.linspace(-1.2, 0.8, 100)\n",
    "y_base=height(x_base)\n",
    "\n",
    "x_target=[0.5,0.5]\n",
    "y_target=[1,1.3]\n",
    "\n",
    "def init():\n",
    "    line1.set_data([], [])\n",
    "    line2.set_data([], [])\n",
    "    ax.add_patch(mag1)\n",
    "    return mag1, line1, line2,\n",
    "\n",
    "def animate(i):\n",
    "    mag1.set_alpha(1)\n",
    "    mag1.center = pos_vector[i],height(pos_vector[i])\n",
    "    line1.set_data(x_base,y_base)\n",
    "    line2.set_data(x_target,y_target)\n",
    "    return mag1, line1, line2, \n",
    "\n",
    "anim = animation.FuncAnimation(fig, animate, init_func=init, frames=T, \n",
    "                               interval=25, blit=True)\n",
    "HTML(anim.to_jshtml())"
   ]
  }
 ],
 "metadata": {
  "colab": {
   "default_view": {},
   "name": "Mountain.ipynb",
   "provenance": [],
   "version": "0.3.2",
   "views": {}
  },
  "kernelspec": {
   "display_name": "Python 3",
   "language": "python",
   "name": "python3"
  },
  "language_info": {
   "codemirror_mode": {
    "name": "ipython",
    "version": 3
   },
   "file_extension": ".py",
   "mimetype": "text/x-python",
   "name": "python",
   "nbconvert_exporter": "python",
   "pygments_lexer": "ipython3",
   "version": "3.6.6"
  }
 },
 "nbformat": 4,
 "nbformat_minor": 1
}
