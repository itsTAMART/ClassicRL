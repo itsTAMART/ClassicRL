{
 "cells": [
  {
   "cell_type": "markdown",
   "metadata": {},
   "source": [
    "# Exercise 3.5\n",
    "![img](imgs/Screenshot_2018-04-20_12-38-01.png)"
   ]
  },
  {
   "cell_type": "markdown",
   "metadata": {
    "collapsed": true
   },
   "source": [
    "We reuse what we already had in ex3.3"
   ]
  },
  {
   "cell_type": "code",
   "execution_count": 1,
   "metadata": {
    "collapsed": true
   },
   "outputs": [],
   "source": [
    "import numpy as np\n",
    "np.set_printoptions(precision=2, suppress=True)\n",
    "#initial parameters\n",
    "gamma = .9\n",
    "R = np.matrix([[-1],[.6],[.5],[-.9]])\n",
    "P = np.matrix([[0.8,0.2],[0.2,0.8],[0.3,0.7],[0.9,0.1]])\n",
    "pi1 = [[1,0,0,0],[0,0,1,0]]\n",
    "pi2 = [[0,1,0,0],[0,0,1,0]]\n",
    "pi3 = [[1,0,0,0],[0,0,0,1]]\n",
    "pi4 = [[0,1,0,0],[0,0,0,1]]"
   ]
  },
  {
   "cell_type": "markdown",
   "metadata": {},
   "source": [
    "We evaluate the value functions for the 4 different policies."
   ]
  },
  {
   "cell_type": "code",
   "execution_count": 2,
   "metadata": {
    "collapsed": true
   },
   "outputs": [],
   "source": [
    "from numpy.linalg import inv\n",
    "\n",
    "#function to evaluate the state value(V) function of a certain policy\n",
    "def eval_v(policy):\n",
    "    P_pi = np.matmul(policy,P)\n",
    "    R_pi = np.matmul(policy,R)\n",
    "    \n",
    "    return np.matmul(inv(np.identity(P_pi.shape[0]) - gamma * P_pi) , R_pi)\n",
    "\n",
    "v1 = eval_v(pi1)\n",
    "v2 = eval_v(pi2)\n",
    "v3 = eval_v(pi3)\n",
    "v4 = eval_v(pi4)"
   ]
  },
  {
   "cell_type": "markdown",
   "metadata": {},
   "source": [
    "Now we generate 1000 random policies and evaluate their value functions. To compare one against another we will sum the values for the 2 states(\\*) and plot them in a histogram. We will see that they are \n",
    "located between policy 2 which is the best and policy 3 which is the worst.\n",
    "\n",
    "(\\*) *Not sure if this is the best way to compare them* TO-DO do a scatter plot, as in the document."
   ]
  },
  {
   "cell_type": "code",
   "execution_count": 3,
   "metadata": {
    "collapsed": true
   },
   "outputs": [],
   "source": [
    "import matplotlib\n",
    "from random import uniform\n",
    "import matplotlib.pyplot as plt\n",
    "%matplotlib inline\n",
    "plt.rcParams['figure.figsize'] = (13.0, 9.0)\n",
    "\n",
    "values = []\n",
    "# We iterate 1000 times to generate the policies\n",
    "for i in range(1000):\n",
    "    #we generate 2 probabilities of taking each action from each state\n",
    "    p = uniform(0, 1)\n",
    "    q = uniform(0, 1)\n",
    "    # We generate the policy from those 2 probabilities, making sure no invalid actions are taken\n",
    "    pi_random = [[p,1 - p,0,0],[0,0,q,1 - q]]\n",
    "    # We evaluate and sum the values for the 2 states.\n",
    "    values.append(np.sum(eval_v(pi_random)))"
   ]
  },
  {
   "cell_type": "code",
   "execution_count": 4,
   "metadata": {},
   "outputs": [
    {
     "data": {
      "image/png": "[encoded data removed]",
      "text/plain": [
       "<Figure size 936x648 with 1 Axes>"
      ]
     },
     "metadata": {},
     "output_type": "display_data"
    }
   ],
   "source": [
    "fig, ax = plt.subplots()\n",
    "\n",
    "num_bins = 50\n",
    "# the histogram of the data\n",
    "ax.hist(values, num_bins)\n",
    "ax.set_title(r'Histogram of 1000 random policies evaluated')\n",
    "ax.axvline(np.sum(v2), ls='--', color='r')\n",
    "ax.axvline(np.sum(v3), ls='--', color='r')\n",
    "\n",
    "# Tweak spacing to prevent clipping of ylabel\n",
    "fig.tight_layout()\n",
    "plt.show()"
   ]
  }
 ],
 "metadata": {
  "kernelspec": {
   "display_name": "Python 3",
   "language": "python",
   "name": "python3"
  },
  "language_info": {
   "codemirror_mode": {
    "name": "ipython",
    "version": 3
   },
   "file_extension": ".py",
   "mimetype": "text/x-python",
   "name": "python",
   "nbconvert_exporter": "python",
   "pygments_lexer": "ipython3",
   "version": "3.6.6"
  }
 },
 "nbformat": 4,
 "nbformat_minor": 2
}
