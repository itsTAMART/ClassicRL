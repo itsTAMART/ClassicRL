{
 "cells": [
  {
   "cell_type": "markdown",
   "metadata": {},
   "source": [
    "# Exercise 3.2.\n",
    "## Suppose a two states Markov Process whose transition matrix is given by:\n",
    "![formula](imgs/Screenshot_2018-04-20_11-12-32.png)\n",
    "## and compare the results of the following procedures:"
   ]
  },
  {
   "cell_type": "markdown",
   "metadata": {},
   "source": [
    "### a) Write a ~~Matlab~~ _Python_ 😎  code that permits the evaluation of the probability of visitation of both states $d^T$ ."
   ]
  },
  {
   "cell_type": "code",
   "execution_count": 1,
   "metadata": {},
   "outputs": [
    {
     "name": "stdout",
     "output_type": "stream",
     "text": [
      "P = \n",
      " [[0.6 0.4]\n",
      " [0.1 0.9]]\n"
     ]
    }
   ],
   "source": [
    "import numpy as np\n",
    "np.set_printoptions(precision=2, suppress=True)\n",
    "\n",
    "#Transition matrix\n",
    "P = np.matrix([[0.6, .4],[0.1 ,.9]])\n",
    "print('P = \\n {}'.format(P) )\n",
    "\n",
    "\n",
    "def p_of_visiting(p_initial, n_steps=1):\n",
    "    \"\"\"\n",
    "    Evaluation function of the probability of visitation of both states given\n",
    "      @p_initial initial probability vector \n",
    "      @n_steps number of steps, 1 by default\n",
    "    \"\"\"\n",
    "    return np.matmul(p_initial, np.linalg.matrix_power(P, n_steps))"
   ]
  },
  {
   "cell_type": "markdown",
   "metadata": {},
   "source": [
    "### b) What is the limit of the sequence of matrices ${P, P 2 , P 3 , · · · }$?. Select and arbitrary initial probability vector $d(0)$ and verify $d_T = \\lim_{t\\rightarrow \\infty} d(0)^T \\mathcal{P}^t \\ \\ \\forall d(0). $"
   ]
  },
  {
   "cell_type": "code",
   "execution_count": 2,
   "metadata": {},
   "outputs": [
    {
     "name": "stdout",
     "output_type": "stream",
     "text": [
      "initial p =  [0.7949499704507168, 0.2050500295492832]\n",
      "limiting distribution d =  [[0.2 0.8]]\n"
     ]
    }
   ],
   "source": [
    "import random\n",
    "\n",
    "#probability of state 1\n",
    "p_1 = random.uniform(0, 1)\n",
    "\n",
    "#random probability vector with 2 states\n",
    "p_initial = [p_1, 1 - p_1]\n",
    "\n",
    "print('initial p = ',p_initial)\n",
    "\n",
    "#probability of visitation after lim_steps = 10000 steps\n",
    "lim_steps = 10000\n",
    "p_lim = p_of_visiting(p_initial, lim_steps)\n",
    "\n",
    "print('limiting distribution d = ',p_lim)"
   ]
  },
  {
   "cell_type": "markdown",
   "metadata": {},
   "source": [
    "### c) Calculate the limiting distribution using the eigen-analysis formula d T = d T P.   T\n",
    "Solution: d = 0.2 0 .8"
   ]
  },
  {
   "cell_type": "markdown",
   "metadata": {},
   "source": [
    "*From 3.11 and Theorem 3.1, we conclude that the limiting distribution\n",
    "vector d is the eigenvector corresponding to an eigenvalue of 1 of P T .*"
   ]
  },
  {
   "cell_type": "code",
   "execution_count": 3,
   "metadata": {},
   "outputs": [
    {
     "name": "stdout",
     "output_type": "stream",
     "text": [
      "eigenvalue of value 1\n",
      "eigenvector scaled to sum 1,\n",
      " d = \n",
      " [[0.2]\n",
      " [0.8]]\n"
     ]
    }
   ],
   "source": [
    "from numpy.linalg import eig\n",
    "\n",
    "#we put the transition probabilities as columns(transpose the matrix), and take the eigenvectors\n",
    "w, v = eig(P.T)\n",
    "\n",
    "# The eig function gave a little problems, the eigenvalues are not sorted by size\n",
    "# so I only display the one of value 1, and the eigenvector had to be resized to sum 1\n",
    "print('eigenvalue of value %.f' % (w[1]))\n",
    "print('eigenvector scaled to sum 1,\\n d = \\n', v[:,1]/np.sum(v[:,1]))"
   ]
  }
 ],
 "metadata": {
  "kernelspec": {
   "display_name": "Python 3",
   "language": "python",
   "name": "python3"
  },
  "language_info": {
   "codemirror_mode": {
    "name": "ipython",
    "version": 3
   },
   "file_extension": ".py",
   "mimetype": "text/x-python",
   "name": "python",
   "nbconvert_exporter": "python",
   "pygments_lexer": "ipython3",
   "version": "3.6.6"
  }
 },
 "nbformat": 4,
 "nbformat_minor": 2
}
