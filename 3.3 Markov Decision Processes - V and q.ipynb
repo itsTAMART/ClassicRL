{
 "cells": [
  {
   "cell_type": "markdown",
   "metadata": {},
   "source": [
    "# Exercise 3.3. \n",
    "## Consider an MDP composed of two states, $\\mathcal{S} , \\{x, y\\}$, and two actions per state, $\\mathcal{A} , \\{u, m\\}$. The possible actions at both states are $u = \\text{unmove}$, i.e., to stay in the same state, or $m = \\text{move}$ to the other state. The state-transition probabilities are\n",
    "![img](imgs/Screenshot_2018-04-20_11-23-41.png)\n",
    "![img](imgs/Screenshot_2018-04-20_11-25-35.png)\n",
    "\n",
    "\n"
   ]
  },
  {
   "cell_type": "code",
   "execution_count": 1,
   "metadata": {
    "collapsed": true
   },
   "outputs": [],
   "source": [
    "import numpy as np\n",
    "np.set_printoptions(precision=2, suppress=True)\n",
    "#initial parameters\n",
    "gamma = .9\n",
    "R = np.matrix([[-1],[.6],[.5],[-.9]])\n",
    "P = np.matrix([[0.8,0.2],[0.2,0.8],[0.3,0.7],[0.9,0.1]])\n",
    "pi1 = [[1,0,0,0],[0,0,1,0]]\n",
    "pi2 = [[0,1,0,0],[0,0,1,0]]\n",
    "pi3 = [[1,0,0,0],[0,0,0,1]]\n",
    "pi4 = [[0,1,0,0],[0,0,0,1]]"
   ]
  },
  {
   "cell_type": "markdown",
   "metadata": {},
   "source": [
    "![img](imgs/Screenshot_2018-05-05_23-55-06.png)"
   ]
  },
  {
   "cell_type": "code",
   "execution_count": 2,
   "metadata": {
    "collapsed": true
   },
   "outputs": [],
   "source": [
    "from numpy.linalg import inv\n",
    "\n",
    "#function to evaluate the state value(V) function of a certain policy\n",
    "def eval_v(policy):\n",
    "    P_pi = np.matmul(policy,P)\n",
    "    R_pi = np.matmul(policy,R)\n",
    "    \n",
    "    return np.matmul(inv(np.identity(P_pi.shape[0]) - gamma * P_pi) , R_pi)\n",
    "\n",
    "#function to evaluate the state-action(Q) value function of a certain policy\n",
    "def eval_q(policy):\n",
    "    #product of the transition matrix with the policy\n",
    "    P_aux = np.matmul(P,policy)\n",
    "        \n",
    "    return np.matmul(inv(np.identity(P_aux.shape[0]) - gamma * P_aux) , R)"
   ]
  },
  {
   "cell_type": "code",
   "execution_count": 3,
   "metadata": {
    "collapsed": true
   },
   "outputs": [],
   "source": [
    "v1 = eval_v(pi1)\n",
    "v2 = eval_v(pi2)\n",
    "v3 = eval_v(pi3)\n",
    "v4 = eval_v(pi4)\n",
    "q1 = eval_q(pi1)\n",
    "q2 = eval_q(pi2)\n",
    "q3 = eval_q(pi3)\n",
    "q4 = eval_q(pi4)"
   ]
  },
  {
   "cell_type": "markdown",
   "metadata": {},
   "source": [
    "![img](imgs/Screenshot_2018-05-05_23-51-30.png)"
   ]
  },
  {
   "cell_type": "code",
   "execution_count": 4,
   "metadata": {},
   "outputs": [
    {
     "name": "stdout",
     "output_type": "stream",
     "text": [
      "v1 = \n",
      " [[-5.09]\n",
      " [-2.36]]\n",
      "v2 = \n",
      " [[5.34]\n",
      " [5.25]]\n",
      "v3 = \n",
      " [[-9.83]\n",
      " [-9.74]]\n",
      "v4 = \n",
      " [[-0.63]\n",
      " [-1.55]]\n",
      "q1 = \n",
      " [[-5.09]\n",
      " [-2.02]\n",
      " [-2.36]\n",
      " [-5.24]]\n",
      "q2 = \n",
      " [[3.79]\n",
      " [5.34]\n",
      " [5.25]\n",
      " [3.9 ]]\n",
      "q3 = \n",
      " [[-9.83]\n",
      " [-8.19]\n",
      " [-8.29]\n",
      " [-9.74]]\n",
      "q4 = \n",
      " [[-1.73]\n",
      " [-0.63]\n",
      " [-0.64]\n",
      " [-1.55]]\n"
     ]
    }
   ],
   "source": [
    "print('v1 = \\n',v1)\n",
    "print('v2 = \\n',v2)\n",
    "print('v3 = \\n',v3)\n",
    "print('v4 = \\n',v4)\n",
    "print('q1 = \\n',q1)\n",
    "print('q2 = \\n',q2)\n",
    "print('q3 = \\n',q3)\n",
    "print('q4 = \\n',q4)"
   ]
  }
 ],
 "metadata": {
  "kernelspec": {
   "display_name": "Python 3",
   "language": "python",
   "name": "python3"
  },
  "language_info": {
   "codemirror_mode": {
    "name": "ipython",
    "version": 3
   },
   "file_extension": ".py",
   "mimetype": "text/x-python",
   "name": "python",
   "nbconvert_exporter": "python",
   "pygments_lexer": "ipython3",
   "version": "3.6.6"
  }
 },
 "nbformat": 4,
 "nbformat_minor": 2
}
